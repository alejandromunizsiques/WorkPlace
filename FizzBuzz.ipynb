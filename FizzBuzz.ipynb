{
  "nbformat": 4,
  "nbformat_minor": 0,
  "metadata": {
    "colab": {
      "name": "FizzBuzz.ipynb",
      "provenance": [],
      "collapsed_sections": [],
      "authorship_tag": "ABX9TyO3I5BDOgRBrDr5ry0VU1A0",
      "include_colab_link": true
    },
    "kernelspec": {
      "name": "python3",
      "display_name": "Python 3"
    },
    "language_info": {
      "name": "python"
    }
  },
  "cells": [
    {
      "cell_type": "markdown",
      "metadata": {
        "id": "view-in-github",
        "colab_type": "text"
      },
      "source": [
        "<a href=\"https://colab.research.google.com/github/alejandromunizsiques/WorkPlace/blob/master/FizzBuzz.ipynb\" target=\"_parent\"><img src=\"https://colab.research.google.com/assets/colab-badge.svg\" alt=\"Open In Colab\"/></a>"
      ]
    },
    {
      "cell_type": "markdown",
      "metadata": {
        "id": "G3KXmwOoin57"
      },
      "source": [
        "#Ejercicio - FizzBuzz#\n",
        "## Ejercicio creado por Coding Dojo##\n",
        "###desarrolado por: Alejandro Muñiz"
      ]
    },
    {
      "cell_type": "markdown",
      "metadata": {
        "id": "lkZ0BrU7jBNT"
      },
      "source": [
        "#Descripcion:#\n",
        "\n",
        "Escribe código que muestre en pantalla los números del 1 al 20. Pero para los múltiplos de tres, muestra en pantalla «Fizz» en lugar del número y, para los múltiplos de cinco, muestra «Buzz». Para los números que son múltiplos de cinco y tres, muestra en pantalla «FizzBuzz»."
      ]
    },
    {
      "cell_type": "code",
      "metadata": {
        "colab": {
          "base_uri": "https://localhost:8080/"
        },
        "id": "SNXpQAmZlshv",
        "outputId": "9e90649b-82fa-4ede-a6f8-57042efce5a3"
      },
      "source": [
        "def FBZ (lista):\n",
        "  for x in range(len(lista)):\n",
        "    if lista [x] % 3 == 0 and lista[x] % 5 == 0:\n",
        "      lista [x] = \"FizzBuzz\"\n",
        "    elif lista[x] % 3 == 0:\n",
        "      lista[x] = \"Fizz\"\n",
        "    elif lista[x] % 5 == 0:\n",
        "     lista[x] = \"Buz\"\n",
        "\n",
        "  print(lista)\n",
        "    \n",
        "\n",
        "\n",
        "\n",
        "\n",
        "FBZ([1,2,3,4,5,6,7,8,9,10,11,12,13,14,15,16,17,18,19,20])"
      ],
      "execution_count": 30,
      "outputs": [
        {
          "output_type": "stream",
          "text": [
            "[1, 2, 'Fizz', 4, 'Buz', 'Fizz', 7, 8, 'Fizz', 'Buz', 11, 'Fizz', 13, 14, 'FizzBuzz', 16, 17, 'Fizz', 19, 'Buz']\n"
          ],
          "name": "stdout"
        }
      ]
    }
  ]
}