{
  "nbformat": 4,
  "nbformat_minor": 0,
  "metadata": {
    "colab": {
      "name": "Modulo 11.ipynb",
      "provenance": [],
      "authorship_tag": "ABX9TyOa+FpIDVlA0jZ1NJDju8yD",
      "include_colab_link": true
    },
    "kernelspec": {
      "name": "python3",
      "display_name": "Python 3"
    },
    "language_info": {
      "name": "python"
    }
  },
  "cells": [
    {
      "cell_type": "markdown",
      "metadata": {
        "id": "view-in-github",
        "colab_type": "text"
      },
      "source": [
        "<a href=\"https://colab.research.google.com/github/alejandromunizsiques/WorkPlace/blob/master/Modulo_11.ipynb\" target=\"_parent\"><img src=\"https://colab.research.google.com/assets/colab-badge.svg\" alt=\"Open In Colab\"/></a>"
      ]
    },
    {
      "cell_type": "code",
      "metadata": {
        "id": "acc3aPauHw3N"
      },
      "source": [
        ""
      ],
      "execution_count": null,
      "outputs": []
    },
    {
      "cell_type": "markdown",
      "metadata": {
        "id": "jZofgrdfHz3N"
      },
      "source": [
        "#Ejercicio de algoritmo \"modulo 11\"#\n",
        "##desarrollado por: Alejandro Muñiz"
      ]
    },
    {
      "cell_type": "markdown",
      "metadata": {
        "id": "2aBK9cJ_ITeM"
      },
      "source": [
        "#Descripcion:#\n",
        "\n",
        "El algoritmo del modulo 11 permite \"validar\" la informacion a traves de un numero verificador que se encuentre dentro de un rango, en este caso la informacion utilizada se trata del RUT, el cual es el numero identificador para cada persona en Chile"
      ]
    },
    {
      "cell_type": "code",
      "metadata": {
        "id": "ZEtGy1MlKJ6V"
      },
      "source": [
        "def verificador_de_rut(RUT): \n",
        "\n",
        "   multiplicacion = []\n",
        "   for x in range (0,len(RUT)): \n",
        "      reversed_list = RUT[::-1]\n",
        "      multiplicador = [2,3,4,5,6,7,2,3]\n",
        "      multiplicacion.append(reversed_list [x] * multiplicador[x])\n",
        "      #print(multiplicacion)\n",
        "      \n",
        "   suma_total= 0\n",
        "   for i in range (0,len(multiplicacion)):\n",
        "     suma_total += multiplicacion[i]\n",
        "      \n",
        "   return(suma_total)"
      ],
      "execution_count": null,
      "outputs": []
    },
    {
      "cell_type": "code",
      "metadata": {
        "id": "uv4Igi-fKOd9"
      },
      "source": [
        "uma= verificador_de_rut([1,9,2,4,3,7,4,9])\n",
        "a = suma/11\n",
        "b = int(a)\n",
        "c = b*11\n",
        "print(c)\n",
        "d = suma - c\n",
        "print (d)\n",
        "e = 11-d\n",
        "print(e)"
      ],
      "execution_count": null,
      "outputs": []
    }
  ]
}